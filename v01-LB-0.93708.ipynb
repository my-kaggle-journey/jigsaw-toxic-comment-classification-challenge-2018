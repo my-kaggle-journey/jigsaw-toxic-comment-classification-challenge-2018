{
 "cells": [
  {
   "cell_type": "code",
   "execution_count": 1,
   "metadata": {},
   "outputs": [],
   "source": [
    "import pandas as pd\n",
    "import numpy as np\n",
    "import matplotlib.pyplot as plt"
   ]
  },
  {
   "cell_type": "code",
   "execution_count": 85,
   "metadata": {},
   "outputs": [],
   "source": [
    "import tensorflow as tf\n",
    "from tensorflow.keras.preprocessing.text import Tokenizer\n",
    "from tensorflow.keras.preprocessing.sequence import pad_sequences\n",
    "\n",
    "from sklearn.model_selection import train_test_split"
   ]
  },
  {
   "cell_type": "code",
   "execution_count": 3,
   "metadata": {},
   "outputs": [],
   "source": [
    "stopwords = [ \"a\", \"about\", \"above\", \"after\", \"again\", \"against\", \"all\", \"am\", \"an\", \"and\", \"any\", \"are\", \"as\", \"at\", \"be\", \"because\", \"been\", \"before\", \"being\", \"below\", \"between\", \"both\", \"but\", \"by\", \"could\", \"did\", \"do\", \"does\", \"doing\", \"down\", \"during\", \"each\", \"few\", \"for\", \"from\", \"further\", \"had\", \"has\", \"have\", \"having\", \"he\", \"he'd\", \"he'll\", \"he's\", \"her\", \"here\", \"here's\", \"hers\", \"herself\", \"him\", \"himself\", \"his\", \"how\", \"how's\", \"i\", \"i'd\", \"i'll\", \"i'm\", \"i've\", \"if\", \"in\", \"into\", \"is\", \"it\", \"it's\", \"its\", \"itself\", \"let's\", \"me\", \"more\", \"most\", \"my\", \"myself\", \"nor\", \"of\", \"on\", \"once\", \"only\", \"or\", \"other\", \"ought\", \"our\", \"ours\", \"ourselves\", \"out\", \"over\", \"own\", \"same\", \"she\", \"she'd\", \"she'll\", \"she's\", \"should\", \"so\", \"some\", \"such\", \"than\", \"that\", \"that's\", \"the\", \"their\", \"theirs\", \"them\", \"themselves\", \"then\", \"there\", \"there's\", \"these\", \"they\", \"they'd\", \"they'll\", \"they're\", \"they've\", \"this\", \"those\", \"through\", \"to\", \"too\", \"under\", \"until\", \"up\", \"very\", \"was\", \"we\", \"we'd\", \"we'll\", \"we're\", \"we've\", \"were\", \"what\", \"what's\", \"when\", \"when's\", \"where\", \"where's\", \"which\", \"while\", \"who\", \"who's\", \"whom\", \"why\", \"why's\", \"with\", \"would\", \"you\", \"you'd\", \"you'll\", \"you're\", \"you've\", \"your\", \"yours\", \"yourself\", \"yourselves\" ] "
   ]
  },
  {
   "cell_type": "code",
   "execution_count": 74,
   "metadata": {},
   "outputs": [],
   "source": [
    "vocab_size = 2_000\n",
    "embedding_dim = 100\n",
    "max_length = 1403"
   ]
  },
  {
   "cell_type": "code",
   "execution_count": 5,
   "metadata": {},
   "outputs": [
    {
     "name": "stdout",
     "output_type": "stream",
     "text": [
      "(159571, 8)\n"
     ]
    },
    {
     "data": {
      "text/html": [
       "<div>\n",
       "<style scoped>\n",
       "    .dataframe tbody tr th:only-of-type {\n",
       "        vertical-align: middle;\n",
       "    }\n",
       "\n",
       "    .dataframe tbody tr th {\n",
       "        vertical-align: top;\n",
       "    }\n",
       "\n",
       "    .dataframe thead th {\n",
       "        text-align: right;\n",
       "    }\n",
       "</style>\n",
       "<table border=\"1\" class=\"dataframe\">\n",
       "  <thead>\n",
       "    <tr style=\"text-align: right;\">\n",
       "      <th></th>\n",
       "      <th>id</th>\n",
       "      <th>comment_text</th>\n",
       "      <th>toxic</th>\n",
       "      <th>severe_toxic</th>\n",
       "      <th>obscene</th>\n",
       "      <th>threat</th>\n",
       "      <th>insult</th>\n",
       "      <th>identity_hate</th>\n",
       "    </tr>\n",
       "  </thead>\n",
       "  <tbody>\n",
       "    <tr>\n",
       "      <th>0</th>\n",
       "      <td>0000997932d777bf</td>\n",
       "      <td>Explanation\\nWhy the edits made under my usern...</td>\n",
       "      <td>0</td>\n",
       "      <td>0</td>\n",
       "      <td>0</td>\n",
       "      <td>0</td>\n",
       "      <td>0</td>\n",
       "      <td>0</td>\n",
       "    </tr>\n",
       "    <tr>\n",
       "      <th>1</th>\n",
       "      <td>000103f0d9cfb60f</td>\n",
       "      <td>D'aww! He matches this background colour I'm s...</td>\n",
       "      <td>0</td>\n",
       "      <td>0</td>\n",
       "      <td>0</td>\n",
       "      <td>0</td>\n",
       "      <td>0</td>\n",
       "      <td>0</td>\n",
       "    </tr>\n",
       "    <tr>\n",
       "      <th>2</th>\n",
       "      <td>000113f07ec002fd</td>\n",
       "      <td>Hey man, I'm really not trying to edit war. It...</td>\n",
       "      <td>0</td>\n",
       "      <td>0</td>\n",
       "      <td>0</td>\n",
       "      <td>0</td>\n",
       "      <td>0</td>\n",
       "      <td>0</td>\n",
       "    </tr>\n",
       "  </tbody>\n",
       "</table>\n",
       "</div>"
      ],
      "text/plain": [
       "                 id                                       comment_text  toxic  \\\n",
       "0  0000997932d777bf  Explanation\\nWhy the edits made under my usern...      0   \n",
       "1  000103f0d9cfb60f  D'aww! He matches this background colour I'm s...      0   \n",
       "2  000113f07ec002fd  Hey man, I'm really not trying to edit war. It...      0   \n",
       "\n",
       "   severe_toxic  obscene  threat  insult  identity_hate  \n",
       "0             0        0       0       0              0  \n",
       "1             0        0       0       0              0  \n",
       "2             0        0       0       0              0  "
      ]
     },
     "execution_count": 5,
     "metadata": {},
     "output_type": "execute_result"
    }
   ],
   "source": [
    "train_df = pd.read_csv(\"../input/train.csv\")\n",
    "print(train_df.shape)\n",
    "train_df[:3]"
   ]
  },
  {
   "cell_type": "code",
   "execution_count": 107,
   "metadata": {},
   "outputs": [
    {
     "name": "stdout",
     "output_type": "stream",
     "text": [
      "(153164, 2)\n"
     ]
    },
    {
     "data": {
      "text/html": [
       "<div>\n",
       "<style scoped>\n",
       "    .dataframe tbody tr th:only-of-type {\n",
       "        vertical-align: middle;\n",
       "    }\n",
       "\n",
       "    .dataframe tbody tr th {\n",
       "        vertical-align: top;\n",
       "    }\n",
       "\n",
       "    .dataframe thead th {\n",
       "        text-align: right;\n",
       "    }\n",
       "</style>\n",
       "<table border=\"1\" class=\"dataframe\">\n",
       "  <thead>\n",
       "    <tr style=\"text-align: right;\">\n",
       "      <th></th>\n",
       "      <th>id</th>\n",
       "      <th>comment_text</th>\n",
       "    </tr>\n",
       "  </thead>\n",
       "  <tbody>\n",
       "    <tr>\n",
       "      <th>0</th>\n",
       "      <td>00001cee341fdb12</td>\n",
       "      <td>Yo bitch Ja Rule is more succesful then you'll...</td>\n",
       "    </tr>\n",
       "    <tr>\n",
       "      <th>1</th>\n",
       "      <td>0000247867823ef7</td>\n",
       "      <td>== From RfC == \\n\\n The title is fine as it is...</td>\n",
       "    </tr>\n",
       "    <tr>\n",
       "      <th>2</th>\n",
       "      <td>00013b17ad220c46</td>\n",
       "      <td>\" \\n\\n == Sources == \\n\\n * Zawe Ashton on Lap...</td>\n",
       "    </tr>\n",
       "  </tbody>\n",
       "</table>\n",
       "</div>"
      ],
      "text/plain": [
       "                 id                                       comment_text\n",
       "0  00001cee341fdb12  Yo bitch Ja Rule is more succesful then you'll...\n",
       "1  0000247867823ef7  == From RfC == \\n\\n The title is fine as it is...\n",
       "2  00013b17ad220c46  \" \\n\\n == Sources == \\n\\n * Zawe Ashton on Lap..."
      ]
     },
     "execution_count": 107,
     "metadata": {},
     "output_type": "execute_result"
    }
   ],
   "source": [
    "test_df = pd.read_csv(\"../input/test.csv\")\n",
    "print(test_df.shape)\n",
    "test_df[:3]"
   ]
  },
  {
   "cell_type": "code",
   "execution_count": 6,
   "metadata": {},
   "outputs": [],
   "source": [
    "target_cols = np.array(['toxic','severe_toxic',\n",
    "                        'obscene', 'threat',\n",
    "                        'insult', 'identity_hate'])"
   ]
  },
  {
   "cell_type": "code",
   "execution_count": 7,
   "metadata": {},
   "outputs": [
    {
     "data": {
      "text/plain": [
       "0     [[0, 0, 0, 0, 0, 0]]\n",
       "1     [[0, 0, 0, 0, 0, 0]]\n",
       "2     [[0, 0, 0, 0, 0, 0]]\n",
       "3     [[0, 0, 0, 0, 0, 0]]\n",
       "4     [[0, 0, 0, 0, 0, 0]]\n",
       "5     [[0, 0, 0, 0, 0, 0]]\n",
       "6     [[1, 1, 1, 0, 1, 0]]\n",
       "7     [[0, 0, 0, 0, 0, 0]]\n",
       "8     [[0, 0, 0, 0, 0, 0]]\n",
       "9     [[0, 0, 0, 0, 0, 0]]\n",
       "10    [[0, 0, 0, 0, 0, 0]]\n",
       "11    [[0, 0, 0, 0, 0, 0]]\n",
       "dtype: object"
      ]
     },
     "execution_count": 7,
     "metadata": {},
     "output_type": "execute_result"
    }
   ],
   "source": [
    "def concat_labels(row):\n",
    "    label_idx = np.where(row)[0]\n",
    "    # print(label_idx, len(label_idx), row.index)\n",
    "    \n",
    "    if len(label_idx)>0:\n",
    "        return \" \".join(row.index[label_idx].tolist())\n",
    "    else:\n",
    "        return \"none\"\n",
    "\n",
    "def onehot_labels(row):\n",
    "        return row.astype(\"int\").values.reshape(1, -1)\n",
    "    \n",
    "# (train_df[target_cols]>0)[:12].apply(concat_labels,1)\n",
    "(train_df[target_cols]>0)[:12].apply(onehot_labels,1)"
   ]
  },
  {
   "cell_type": "code",
   "execution_count": 8,
   "metadata": {},
   "outputs": [
    {
     "data": {
      "text/plain": [
       "35098"
      ]
     },
     "execution_count": 8,
     "metadata": {},
     "output_type": "execute_result"
    }
   ],
   "source": [
    "idx_x, idx_y = np.where(train_df[target_cols]>0)\n",
    "len(idx_x)"
   ]
  },
  {
   "cell_type": "code",
   "execution_count": 9,
   "metadata": {},
   "outputs": [],
   "source": [
    "sentences = train_df[\"comment_text\"].tolist()"
   ]
  },
  {
   "cell_type": "code",
   "execution_count": 108,
   "metadata": {},
   "outputs": [],
   "source": [
    "test_sentences = test_df[\"comment_text\"].tolist()"
   ]
  },
  {
   "cell_type": "code",
   "execution_count": 10,
   "metadata": {},
   "outputs": [],
   "source": [
    "# labels = (train_df[target_cols]>0).apply(concat_labels,1)\n",
    "labels = (train_df[target_cols]>0).apply(onehot_labels,1)\n",
    "labels_npy = np.concatenate(labels.values, axis=0)"
   ]
  },
  {
   "cell_type": "markdown",
   "metadata": {},
   "source": [
    "# Tokenize"
   ]
  },
  {
   "cell_type": "markdown",
   "metadata": {},
   "source": [
    "### Sentence"
   ]
  },
  {
   "cell_type": "code",
   "execution_count": 11,
   "metadata": {},
   "outputs": [
    {
     "name": "stdout",
     "output_type": "stream",
     "text": [
      "210338\n"
     ]
    }
   ],
   "source": [
    "tokenizer = Tokenizer(oov_token = \"<OOV>\", num_words=vocab_size)\n",
    "tokenizer.fit_on_texts(sentences)\n",
    "word_index = tokenizer.word_index\n",
    "print(len(word_index))"
   ]
  },
  {
   "cell_type": "code",
   "execution_count": 77,
   "metadata": {},
   "outputs": [
    {
     "data": {
      "text/plain": [
       "<OOV>               1\n",
       "the                 2\n",
       "to                  3\n",
       "of                  4\n",
       "and                 5\n",
       "                ...  \n",
       "1053           210334\n",
       "hanumakonda    210335\n",
       "956ce          210336\n",
       "automakers     210337\n",
       "ciu            210338\n",
       "Length: 210338, dtype: int64"
      ]
     },
     "execution_count": 77,
     "metadata": {},
     "output_type": "execute_result"
    }
   ],
   "source": [
    "pd.Series(word_index)"
   ]
  },
  {
   "cell_type": "code",
   "execution_count": 78,
   "metadata": {},
   "outputs": [
    {
     "name": "stdout",
     "output_type": "stream",
     "text": [
      "[689  76   2 ...   0   0   0]\n",
      "(159571, 1403)\n"
     ]
    }
   ],
   "source": [
    "sequences = tokenizer.texts_to_sequences(sentences) # Your Code Here\n",
    "padded = pad_sequences(sequences, padding = 'post')  # Your Code here\n",
    "print(padded[0])\n",
    "print(padded.shape)"
   ]
  },
  {
   "cell_type": "code",
   "execution_count": 111,
   "metadata": {},
   "outputs": [
    {
     "name": "stdout",
     "output_type": "stream",
     "text": [
      "[  1 656   1 ...   0   0   0]\n",
      "(153164, 1403)\n"
     ]
    }
   ],
   "source": [
    "test_sequences = tokenizer.texts_to_sequences(test_sentences) # Your Code Here\n",
    "test_padded = pad_sequences(test_sequences, padding = 'post', maxlen=1403)  # Your Code here\n",
    "print(test_padded[0])\n",
    "print(test_padded.shape)"
   ]
  },
  {
   "cell_type": "code",
   "execution_count": 112,
   "metadata": {},
   "outputs": [
    {
     "name": "stdout",
     "output_type": "stream",
     "text": [
      "1403\n",
      "1403\n"
     ]
    }
   ],
   "source": [
    "print(len(padded[0]))\n",
    "print(len(test_padded[0]))"
   ]
  },
  {
   "cell_type": "markdown",
   "metadata": {},
   "source": [
    "### Label"
   ]
  },
  {
   "cell_type": "code",
   "execution_count": 80,
   "metadata": {},
   "outputs": [],
   "source": [
    "# v1 labels\n",
    "# label_tokenizer = Tokenizer()\n",
    "# label_tokenizer.fit_on_texts(labels)\n",
    "# label_word_index = label_tokenizer.word_index\n",
    "# label_seq = label_tokenizer.texts_to_sequences(labels)\n",
    "# print(label_seq[:5])\n",
    "# print(label_word_index)"
   ]
  },
  {
   "cell_type": "markdown",
   "metadata": {},
   "source": [
    "# Model"
   ]
  },
  {
   "cell_type": "code",
   "execution_count": 142,
   "metadata": {},
   "outputs": [
    {
     "name": "stdout",
     "output_type": "stream",
     "text": [
      "Model: \"sequential\"\n",
      "_________________________________________________________________\n",
      "Layer (type)                 Output Shape              Param #   \n",
      "=================================================================\n",
      "embedding (Embedding)        (None, 1403, 100)         200000    \n",
      "_________________________________________________________________\n",
      "global_average_pooling1d (Gl (None, 100)               0         \n",
      "_________________________________________________________________\n",
      "dense (Dense)                (None, 24)                2424      \n",
      "_________________________________________________________________\n",
      "dense_1 (Dense)              (None, 6)                 150       \n",
      "=================================================================\n",
      "Total params: 202,574\n",
      "Trainable params: 202,574\n",
      "Non-trainable params: 0\n",
      "_________________________________________________________________\n"
     ]
    }
   ],
   "source": [
    "tf.keras.backend.clear_session()\n",
    "model = tf.keras.Sequential([\n",
    "# YOUR CODE HERE\n",
    "    tf.keras.layers.Embedding(input_dim=vocab_size, output_dim=embedding_dim, input_length=max_length), \n",
    "    tf.keras.layers.GlobalAveragePooling1D(), \n",
    "    tf.keras.layers.Dense(24, activation = 'relu'), \n",
    "    tf.keras.layers.Dense(6, activation = 'sigmoid')\n",
    "    \n",
    "])\n",
    "model.compile(loss='binary_crossentropy', optimizer='adam',metrics=['mae', tf.keras.metrics.AUC()])\n",
    "model.summary()"
   ]
  },
  {
   "cell_type": "code",
   "execution_count": 143,
   "metadata": {},
   "outputs": [],
   "source": [
    "np.random.seed(1291)\n",
    "X_train, X_test, y_train, y_test = train_test_split(padded, labels_npy, test_size=0.2)"
   ]
  },
  {
   "cell_type": "code",
   "execution_count": 144,
   "metadata": {},
   "outputs": [
    {
     "name": "stdout",
     "output_type": "stream",
     "text": [
      "Epoch 1/15\n",
      "1022/1022 [==============================] - 49s 48ms/step - loss: 0.1720 - mae: 0.0967 - auc: 0.7200 - val_loss: 0.1383 - val_mae: 0.0664 - val_auc: 0.8020\n",
      "Epoch 2/15\n",
      "1022/1022 [==============================] - 49s 48ms/step - loss: 0.1323 - mae: 0.0661 - auc: 0.8162 - val_loss: 0.1281 - val_mae: 0.0573 - val_auc: 0.8646\n",
      "Epoch 3/15\n",
      "1022/1022 [==============================] - 49s 48ms/step - loss: 0.1174 - mae: 0.0617 - auc: 0.8816 - val_loss: 0.1109 - val_mae: 0.0567 - val_auc: 0.9054\n",
      "Epoch 4/15\n",
      "1022/1022 [==============================] - 49s 48ms/step - loss: 0.1042 - mae: 0.0558 - auc: 0.9144 - val_loss: 0.1013 - val_mae: 0.0581 - val_auc: 0.9251\n",
      "Epoch 5/15\n",
      "1022/1022 [==============================] - 49s 48ms/step - loss: 0.0945 - mae: 0.0515 - auc: 0.9311 - val_loss: 0.0927 - val_mae: 0.0515 - val_auc: 0.9387\n",
      "Epoch 6/15\n",
      "1022/1022 [==============================] - 49s 48ms/step - loss: 0.0868 - mae: 0.0479 - auc: 0.9427 - val_loss: 0.0866 - val_mae: 0.0448 - val_auc: 0.9470\n",
      "Epoch 7/15\n",
      "1022/1022 [==============================] - 49s 48ms/step - loss: 0.0809 - mae: 0.0449 - auc: 0.9499 - val_loss: 0.0824 - val_mae: 0.0425 - val_auc: 0.9519\n",
      "Epoch 8/15\n",
      "1022/1022 [==============================] - 49s 48ms/step - loss: 0.0766 - mae: 0.0426 - auc: 0.9546 - val_loss: 0.0793 - val_mae: 0.0426 - val_auc: 0.9558\n",
      "Epoch 9/15\n",
      "1022/1022 [==============================] - 49s 48ms/step - loss: 0.0733 - mae: 0.0407 - auc: 0.9582 - val_loss: 0.0765 - val_mae: 0.0421 - val_auc: 0.9599\n",
      "Epoch 10/15\n",
      "1022/1022 [==============================] - 50s 49ms/step - loss: 0.0705 - mae: 0.0391 - auc: 0.9613 - val_loss: 0.0766 - val_mae: 0.0351 - val_auc: 0.9596\n",
      "Epoch 11/15\n",
      "1022/1022 [==============================] - 49s 48ms/step - loss: 0.0680 - mae: 0.0378 - auc: 0.9635 - val_loss: 0.0738 - val_mae: 0.0429 - val_auc: 0.9630\n",
      "Epoch 12/15\n",
      "1022/1022 [==============================] - 50s 49ms/step - loss: 0.0663 - mae: 0.0368 - auc: 0.9649 - val_loss: 0.0731 - val_mae: 0.0433 - val_auc: 0.9645\n",
      "Epoch 13/15\n",
      "1022/1022 [==============================] - 50s 49ms/step - loss: 0.0651 - mae: 0.0359 - auc: 0.9658 - val_loss: 0.0689 - val_mae: 0.0352 - val_auc: 0.9644\n",
      "Epoch 14/15\n",
      "1022/1022 [==============================] - 50s 49ms/step - loss: 0.0633 - mae: 0.0350 - auc: 0.9679 - val_loss: 0.0678 - val_mae: 0.0353 - val_auc: 0.9651\n",
      "Epoch 15/15\n",
      "1022/1022 [==============================] - 50s 49ms/step - loss: 0.0626 - mae: 0.0345 - auc: 0.9682 - val_loss: 0.0670 - val_mae: 0.0331 - val_auc: 0.9654\n"
     ]
    }
   ],
   "source": [
    "history = model.fit(X_train, y_train, epochs=15, batch_size=100, validation_split=0.2)"
   ]
  },
  {
   "cell_type": "code",
   "execution_count": 145,
   "metadata": {},
   "outputs": [
    {
     "name": "stdout",
     "output_type": "stream",
     "text": [
      "998/998 [==============================] - 4s 4ms/step - loss: 0.0710 - mae: 0.0335 - auc: 0.9636\n"
     ]
    }
   ],
   "source": [
    "evel_loss, evel_mae, evel_auc = model.evaluate(x=X_test, y=y_test)"
   ]
  },
  {
   "cell_type": "code",
   "execution_count": 146,
   "metadata": {},
   "outputs": [
    {
     "data": {
      "image/png": "[encoded data removed]",
      "text/plain": [
       "<Figure size 432x288 with 1 Axes>"
      ]
     },
     "metadata": {
      "needs_background": "light"
     },
     "output_type": "display_data"
    }
   ],
   "source": [
    "def plot_learning_curve(history):\n",
    "        # plt.plot(history.epoch, history.history[\"auc\"], \".:\")\n",
    "        # plt.plot(history.epoch, history.history[\"val_auc\"], \".:\")\n",
    "\n",
    "        plt.plot(history.epoch, history.history[\"loss\"], \".:\", label=\"loss\")\n",
    "        plt.plot(history.epoch, history.history[\"val_loss\"], \".:\", label=\"val_loss\")\n",
    "        plt.legend()\n",
    "\n",
    "plot_learning_curve(history)\n",
    "val_auc = history.history[\"val_auc\"][-1]"
   ]
  },
  {
   "cell_type": "code",
   "execution_count": 147,
   "metadata": {},
   "outputs": [
    {
     "data": {
      "text/plain": [
       "(0.9653877019882202, 0.9635944962501526, 0.961801290512085)"
      ]
     },
     "execution_count": 147,
     "metadata": {},
     "output_type": "execute_result"
    }
   ],
   "source": [
    "val_auc, evel_auc, evel_auc-abs(val_auc - evel_auc)"
   ]
  },
  {
   "cell_type": "markdown",
   "metadata": {},
   "source": [
    "# prediction for submission"
   ]
  },
  {
   "cell_type": "code",
   "execution_count": 148,
   "metadata": {},
   "outputs": [],
   "source": [
    "test_pred = model.predict(test_padded)"
   ]
  },
  {
   "cell_type": "code",
   "execution_count": 150,
   "metadata": {},
   "outputs": [
    {
     "data": {
      "text/plain": [
       "array([[9.9649400e-01, 2.9819152e-01, 8.8668740e-01, 8.5244924e-02,\n",
       "        8.3518887e-01, 1.6983256e-01],\n",
       "       [5.7797134e-03, 8.9909270e-05, 1.7233789e-03, 3.9365888e-04,\n",
       "        1.7042458e-03, 7.9613924e-04],\n",
       "       [2.0387262e-02, 3.4394860e-04, 6.1842799e-03, 8.9854002e-04,\n",
       "        6.1093569e-03, 1.9328892e-03],\n",
       "       ...,\n",
       "       [6.5335631e-04, 6.3608184e-07, 7.9270452e-05, 1.2955919e-05,\n",
       "        5.8925096e-05, 3.7719503e-05],\n",
       "       [3.8697839e-02, 9.4828632e-05, 9.5448494e-03, 3.3837557e-04,\n",
       "        6.7652166e-03, 1.4368594e-03],\n",
       "       [1.8995672e-01, 2.8473735e-03, 5.9914649e-02, 3.2944083e-03,\n",
       "        5.3986669e-02, 9.4314516e-03]], dtype=float32)"
      ]
     },
     "execution_count": 150,
     "metadata": {},
     "output_type": "execute_result"
    }
   ],
   "source": [
    "test_pred"
   ]
  },
  {
   "cell_type": "code",
   "execution_count": 149,
   "metadata": {},
   "outputs": [],
   "source": [
    "# (test_pred>0.5).astype(\"int\")"
   ]
  },
  {
   "cell_type": "code",
   "execution_count": 151,
   "metadata": {},
   "outputs": [],
   "source": [
    "pd.concat([test_df[\"id\"], pd.DataFrame(test_pred, columns=target_cols)], 1).to_csv(\"sub.csv\", index=False)"
   ]
  },
  {
   "cell_type": "code",
   "execution_count": 152,
   "metadata": {},
   "outputs": [
    {
     "name": "stdout",
     "output_type": "stream",
     "text": [
      "100%|██████████████████████████████████████| 13.5M/13.5M [00:06<00:00, 2.20MB/s]\n",
      "Successfully submitted to Toxic Comment Classification Challenge"
     ]
    }
   ],
   "source": [
    "!kaggle competitions submit -f sub.csv -m \"\" jigsaw-toxic-comment-classification-challenge"
   ]
  },
  {
   "cell_type": "code",
   "execution_count": 157,
   "metadata": {},
   "outputs": [],
   "source": [
    "# !kaggle competitions submissions jigsaw-toxic-comment-classification-challenge"
   ]
  },
  {
   "cell_type": "markdown",
   "metadata": {},
   "source": [
    "```\n",
    "publicScore  privateScore\n",
    "0.93708      0.93811\n",
    "```"
   ]
  },
  {
   "cell_type": "code",
   "execution_count": null,
   "metadata": {},
   "outputs": [],
   "source": []
  }
 ],
 "metadata": {
  "kernelspec": {
   "display_name": "Python 3",
   "language": "python",
   "name": "python3"
  },
  "language_info": {
   "codemirror_mode": {
    "name": "ipython",
    "version": 3
   },
   "file_extension": ".py",
   "mimetype": "text/x-python",
   "name": "python",
   "nbconvert_exporter": "python",
   "pygments_lexer": "ipython3",
   "version": "3.7.7"
  }
 },
 "nbformat": 4,
 "nbformat_minor": 4
}
